{
 "cells": [
  {
   "cell_type": "code",
   "execution_count": 61,
   "metadata": {},
   "outputs": [],
   "source": [
    "from selenium import webdriver\n",
    "import pandas as pd\n",
    "import re"
   ]
  },
  {
   "cell_type": "code",
   "execution_count": 101,
   "metadata": {},
   "outputs": [],
   "source": [
    "browser = webdriver.Firefox(executable_path='/usr/local/bin/geckodriver')"
   ]
  },
  {
   "cell_type": "markdown",
   "metadata": {},
   "source": [
    "## Scrape stay at home orders"
   ]
  },
  {
   "cell_type": "code",
   "execution_count": 102,
   "metadata": {},
   "outputs": [],
   "source": [
    "url = 'https://www.nytimes.com/interactive/2020/us/coronavirus-stay-at-home-order.html?smid=ig-nytimes&utm_source=like2buy.curalate.com&crl8_id=3b7a7632-c666-4d1b-955d-e8cadc22aaae'\n",
    "browser.get(url)\n",
    "\n",
    "order_nodes = browser.find_elements_by_xpath(\"//div[starts-with(@id, 'item-')]\")\n",
    "print('States that have issued orders: ' + str(len(order_nodes)))"
   ]
  },
  {
   "cell_type": "code",
   "execution_count": 110,
   "metadata": {},
   "outputs": [],
   "source": [
    "def get_place_name(node, type_of_node=None):\n",
    "    if type_of_node == 'state':\n",
    "        node = node.find_element_by_tag_name('h3')\n",
    "    name = node.text\n",
    "    children = node.find_elements_by_xpath('./*')\n",
    "    for child in children: \n",
    "        name = name.replace(child.text, '').strip()\n",
    "    return name\n",
    "    \n",
    "def format_order(order):\n",
    "    return order.text.split(',')[0].lower()\n",
    "\n",
    "def format_date(date):\n",
    "    return re.search('[A-Z]\\w* \\d*', date.text)[0]"
   ]
  },
  {
   "cell_type": "code",
   "execution_count": 120,
   "metadata": {},
   "outputs": [],
   "source": [
    "data = {'state': [], 'place': [], 'order': [], 'date': []}\n",
    "\n",
    "for order_node in order_nodes:\n",
    "    state_name = get_place_name(order_node, 'state')\n",
    "    places = order_node.find_elements_by_class_name('l-place')\n",
    "    orders = order_node.find_elements_by_class_name('l-order')\n",
    "    dates = order_node.find_elements_by_class_name('l-date')                        \n",
    "    \n",
    "    if not places:\n",
    "        data['state'].append(state_name)\n",
    "        data['place'].append(None)\n",
    "        data['order'].append(format_order(orders[0]))\n",
    "        data['date'].append(format_date(dates[0]))\n",
    "    else:\n",
    "        for i, place in enumerate(places):\n",
    "            data['state'].append(state_name)\n",
    "            data['place'].append(get_place_name(place))\n",
    "            data['order'].append(format_order(orders[i]))\n",
    "            data['date'].append(format_date(dates[i]))"
   ]
  },
  {
   "cell_type": "code",
   "execution_count": 122,
   "metadata": {},
   "outputs": [
    {
     "data": {
      "text/html": [
       "<div>\n",
       "<style scoped>\n",
       "    .dataframe tbody tr th:only-of-type {\n",
       "        vertical-align: middle;\n",
       "    }\n",
       "\n",
       "    .dataframe tbody tr th {\n",
       "        vertical-align: top;\n",
       "    }\n",
       "\n",
       "    .dataframe thead th {\n",
       "        text-align: right;\n",
       "    }\n",
       "</style>\n",
       "<table border=\"1\" class=\"dataframe\">\n",
       "  <thead>\n",
       "    <tr style=\"text-align: right;\">\n",
       "      <th></th>\n",
       "      <th>state</th>\n",
       "      <th>place</th>\n",
       "      <th>order</th>\n",
       "      <th>date</th>\n",
       "    </tr>\n",
       "  </thead>\n",
       "  <tbody>\n",
       "    <tr>\n",
       "      <td>0</td>\n",
       "      <td>Alabama</td>\n",
       "      <td>Birmingham</td>\n",
       "      <td>shelter in place</td>\n",
       "      <td>March 24</td>\n",
       "    </tr>\n",
       "    <tr>\n",
       "      <td>1</td>\n",
       "      <td>Alaska</td>\n",
       "      <td>None</td>\n",
       "      <td>stay at home</td>\n",
       "      <td>March 28</td>\n",
       "    </tr>\n",
       "    <tr>\n",
       "      <td>2</td>\n",
       "      <td>Arizona</td>\n",
       "      <td>None</td>\n",
       "      <td>stay at home</td>\n",
       "      <td>March 31</td>\n",
       "    </tr>\n",
       "    <tr>\n",
       "      <td>3</td>\n",
       "      <td>California</td>\n",
       "      <td>None</td>\n",
       "      <td>stay at home</td>\n",
       "      <td>March 19</td>\n",
       "    </tr>\n",
       "    <tr>\n",
       "      <td>4</td>\n",
       "      <td>Colorado</td>\n",
       "      <td>None</td>\n",
       "      <td>stay at home</td>\n",
       "      <td>March 26</td>\n",
       "    </tr>\n",
       "    <tr>\n",
       "      <td>...</td>\n",
       "      <td>...</td>\n",
       "      <td>...</td>\n",
       "      <td>...</td>\n",
       "      <td>...</td>\n",
       "    </tr>\n",
       "    <tr>\n",
       "      <td>148</td>\n",
       "      <td>Virginia</td>\n",
       "      <td>None</td>\n",
       "      <td>stay at home</td>\n",
       "      <td>March 30</td>\n",
       "    </tr>\n",
       "    <tr>\n",
       "      <td>149</td>\n",
       "      <td>Washington</td>\n",
       "      <td>None</td>\n",
       "      <td>stay at home</td>\n",
       "      <td>March 23</td>\n",
       "    </tr>\n",
       "    <tr>\n",
       "      <td>150</td>\n",
       "      <td>West Virginia</td>\n",
       "      <td>None</td>\n",
       "      <td>stay at home</td>\n",
       "      <td>March 24</td>\n",
       "    </tr>\n",
       "    <tr>\n",
       "      <td>151</td>\n",
       "      <td>Wisconsin</td>\n",
       "      <td>None</td>\n",
       "      <td>stay at home</td>\n",
       "      <td>March 25</td>\n",
       "    </tr>\n",
       "    <tr>\n",
       "      <td>152</td>\n",
       "      <td>Wyoming</td>\n",
       "      <td>Jackson</td>\n",
       "      <td>stay at home</td>\n",
       "      <td>March 28</td>\n",
       "    </tr>\n",
       "  </tbody>\n",
       "</table>\n",
       "<p>153 rows × 4 columns</p>\n",
       "</div>"
      ],
      "text/plain": [
       "             state       place             order      date\n",
       "0          Alabama  Birmingham  shelter in place  March 24\n",
       "1           Alaska        None      stay at home  March 28\n",
       "2          Arizona        None      stay at home  March 31\n",
       "3       California        None      stay at home  March 19\n",
       "4         Colorado        None      stay at home  March 26\n",
       "..             ...         ...               ...       ...\n",
       "148       Virginia        None      stay at home  March 30\n",
       "149     Washington        None      stay at home  March 23\n",
       "150  West Virginia        None      stay at home  March 24\n",
       "151      Wisconsin        None      stay at home  March 25\n",
       "152        Wyoming     Jackson      stay at home  March 28\n",
       "\n",
       "[153 rows x 4 columns]"
      ]
     },
     "execution_count": 122,
     "metadata": {},
     "output_type": "execute_result"
    }
   ],
   "source": [
    "df_orders = pd.DataFrame(data)\n",
    "df_orders"
   ]
  }
 ],
 "metadata": {
  "kernelspec": {
   "display_name": "Python 3",
   "language": "python",
   "name": "python3"
  },
  "language_info": {
   "codemirror_mode": {
    "name": "ipython",
    "version": 3
   },
   "file_extension": ".py",
   "mimetype": "text/x-python",
   "name": "python",
   "nbconvert_exporter": "python",
   "pygments_lexer": "ipython3",
   "version": "3.6.5"
  }
 },
 "nbformat": 4,
 "nbformat_minor": 4
}
